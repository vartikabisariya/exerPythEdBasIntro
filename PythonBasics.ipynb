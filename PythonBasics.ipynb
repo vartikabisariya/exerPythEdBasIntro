{
 "cells": [
  {
   "cell_type": "markdown",
   "id": "3cfb3237",
   "metadata": {
    "deletable": false,
    "editable": false,
    "nbgrader": {
     "cell_type": "markdown",
     "checksum": "d7b8ab195168c2cf11b47b100acdc7c6",
     "grade": false,
     "grade_id": "cell-39c074ba0bb27d83",
     "locked": true,
     "schema_version": 3,
     "solution": false,
     "task": false
    }
   },
   "source": [
    "### Instructions\n",
    "\n",
    "* Sign up for the free course on Educative, __Learn Python 3 From Scratch__\n",
    "* https://www.educative.io/courses/learn-python-3-from-scratch\n",
    "* Complete the programming exercises below as you go through the course.\n",
    "* Delete or comment out the line of code in each cell which says `raise NotImplementedError()` and replace it with your own."
   ]
  },
  {
   "cell_type": "markdown",
   "id": "eafcd8de",
   "metadata": {
    "deletable": false,
    "editable": false,
    "nbgrader": {
     "cell_type": "markdown",
     "checksum": "0ad583ceae6bb257c57795ad930fd076",
     "grade": false,
     "grade_id": "cell-cd0432914e330767",
     "locked": true,
     "schema_version": 3,
     "solution": false,
     "task": false
    }
   },
   "source": [
    "# Educative - Introduction\n",
    "\n",
    "https://www.educative.io/courses/learn-python-3-from-scratch/g7jr5MYkV8G"
   ]
  },
  {
   "cell_type": "markdown",
   "id": "58662537",
   "metadata": {
    "deletable": false,
    "editable": false,
    "nbgrader": {
     "cell_type": "markdown",
     "checksum": "41f3fe9909f51b0d75e1a575d5c870af",
     "grade": false,
     "grade_id": "cell-06061a080ea59082",
     "locked": true,
     "schema_version": 3,
     "solution": false,
     "task": false
    }
   },
   "source": [
    "Write code in the cell below to print the statement `Hello World`"
   ]
  },
  {
   "cell_type": "code",
   "execution_count": 1,
   "id": "123a15d1",
   "metadata": {
    "deletable": false,
    "nbgrader": {
     "cell_type": "code",
     "checksum": "743eb654e2b0e496e687be1b8c4e6dea",
     "grade": true,
     "grade_id": "cell-d62e3935ff7de400",
     "locked": false,
     "points": 1,
     "schema_version": 3,
     "solution": true,
     "task": false
    }
   },
   "outputs": [
    {
     "name": "stdout",
     "output_type": "stream",
     "text": [
      "Hello World\n"
     ]
    }
   ],
   "source": [
    "\n",
    "# YOUR CODE HERE\n",
    "print(\"Hello World\")\n"
   ]
  },
  {
   "cell_type": "markdown",
   "id": "0ccbd778",
   "metadata": {
    "deletable": false,
    "editable": false,
    "nbgrader": {
     "cell_type": "markdown",
     "checksum": "7e16039b4e7e4b2cf914a4647fc69030",
     "grade": false,
     "grade_id": "cell-d3aae9e607de369c",
     "locked": true,
     "schema_version": 3,
     "solution": false,
     "task": false
    }
   },
   "source": [
    "Write code in the cell below to print the numbers 50, 1000, 3.142 on separate lines."
   ]
  },
  {
   "cell_type": "code",
   "execution_count": 2,
   "id": "406612a9",
   "metadata": {
    "deletable": false,
    "nbgrader": {
     "cell_type": "code",
     "checksum": "009aa4dd182eaf610d17a205d34968c7",
     "grade": true,
     "grade_id": "cell-297469e1a0737db3",
     "locked": false,
     "points": 1,
     "schema_version": 3,
     "solution": true,
     "task": false
    }
   },
   "outputs": [
    {
     "name": "stdout",
     "output_type": "stream",
     "text": [
      "50\n",
      "1000\n",
      "3.142\n"
     ]
    }
   ],
   "source": [
    "\n",
    "# YOUR CODE HERE\n",
    "print(50)\n",
    "print(1000)\n",
    "print(3.142)"
   ]
  },
  {
   "cell_type": "markdown",
   "id": "105d56af",
   "metadata": {
    "deletable": false,
    "editable": false,
    "nbgrader": {
     "cell_type": "markdown",
     "checksum": "c2a9cc33d3d26f549392b10fc577fea6",
     "grade": false,
     "grade_id": "cell-78254307a8c9fb79",
     "locked": true,
     "schema_version": 3,
     "solution": false,
     "task": false
    }
   },
   "source": [
    "Write code in the cell below to print the numbers 50, 1000, 3.142, `Hello World` all on one line."
   ]
  },
  {
   "cell_type": "code",
   "execution_count": 3,
   "id": "f96cf395",
   "metadata": {
    "deletable": false,
    "nbgrader": {
     "cell_type": "code",
     "checksum": "1f8022f86f59b11742bef504c425b899",
     "grade": true,
     "grade_id": "cell-aa939aca5a7e3cd4",
     "locked": false,
     "points": 1,
     "schema_version": 3,
     "solution": true,
     "task": false
    }
   },
   "outputs": [
    {
     "name": "stdout",
     "output_type": "stream",
     "text": [
      "50 1000 3.142 Hello World\n"
     ]
    }
   ],
   "source": [
    "\n",
    "# YOUR CODE HERE\n",
    "print(50, 1000, 3.142, \"Hello World\")"
   ]
  },
  {
   "cell_type": "markdown",
   "id": "593df28a",
   "metadata": {
    "deletable": false,
    "editable": false,
    "nbgrader": {
     "cell_type": "markdown",
     "checksum": "0f69f39a6fa3422c0e076006ef7eec13",
     "grade": false,
     "grade_id": "cell-da077b6eaaa5c534",
     "locked": true,
     "schema_version": 3,
     "solution": false,
     "task": false
    }
   },
   "source": [
    "Add some comments in the cell below."
   ]
  },
  {
   "cell_type": "code",
   "execution_count": 4,
   "id": "57f1d10a",
   "metadata": {
    "deletable": false,
    "nbgrader": {
     "cell_type": "code",
     "checksum": "f0511d9bd8f69ca3b65040b24a421940",
     "grade": true,
     "grade_id": "cell-ecf9744730367ba4",
     "locked": false,
     "points": 1,
     "schema_version": 3,
     "solution": true,
     "task": false
    }
   },
   "outputs": [
    {
     "name": "stdout",
     "output_type": "stream",
     "text": [
      "50\n",
      "Hello World\n"
     ]
    }
   ],
   "source": [
    "\n",
    "# YOUR CODE HERE\n",
    "print(50)  # This line prints 50\n",
    "print(\"Hello World\")  # This line prints Hello World\n",
    "\n",
    "# This is just a comment hanging out on its own!\n",
    "\n",
    "# For multi-line comments, we must\n",
    "# add the hashtag symbol\n",
    "# each time"
   ]
  },
  {
   "cell_type": "markdown",
   "id": "65427b48",
   "metadata": {},
   "source": [
    "Add a docstring in the cell below."
   ]
  },
  {
   "cell_type": "code",
   "execution_count": 5,
   "id": "820cb4ad",
   "metadata": {
    "deletable": false,
    "nbgrader": {
     "cell_type": "code",
     "checksum": "07040e53ef9a4967d80e2b914001181c",
     "grade": true,
     "grade_id": "cell-d019c022c6bb426f",
     "locked": false,
     "points": 1,
     "schema_version": 3,
     "solution": true,
     "task": false
    }
   },
   "outputs": [
    {
     "data": {
      "text/plain": [
       "' Docstrings are pretty cool\\nfor writing longer comments\\nor notes about the code'"
      ]
     },
     "execution_count": 5,
     "metadata": {},
     "output_type": "execute_result"
    }
   ],
   "source": [
    "\n",
    "# YOUR CODE HERE\n",
    "\"\"\" Docstrings are pretty cool\n",
    "for writing longer comments\n",
    "or notes about the code\"\"\""
   ]
  },
  {
   "cell_type": "code",
   "execution_count": null,
   "id": "0bdfbb12",
   "metadata": {},
   "outputs": [],
   "source": []
  }
 ],
 "metadata": {
  "kernelspec": {
   "display_name": "Python 3 (ipykernel)",
   "language": "python",
   "name": "python3"
  },
  "language_info": {
   "codemirror_mode": {
    "name": "ipython",
    "version": 3
   },
   "file_extension": ".py",
   "mimetype": "text/x-python",
   "name": "python",
   "nbconvert_exporter": "python",
   "pygments_lexer": "ipython3",
   "version": "3.9.12"
  }
 },
 "nbformat": 4,
 "nbformat_minor": 5
}
